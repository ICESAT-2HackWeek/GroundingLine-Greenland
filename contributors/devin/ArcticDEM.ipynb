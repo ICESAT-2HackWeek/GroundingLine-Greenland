{
 "cells": [
  {
   "cell_type": "markdown",
   "id": "2c029588-ffd8-4400-9eaf-55c01a4b9f60",
   "metadata": {},
   "source": [
    "# ArcticDEM Data Access\n",
    "\n",
    "This notebook contains functions for querying available ArcticDEM strips and a demo of their use with an AOI near the Petermann Glacier in northern Greenland.\n",
    "\n",
    "Learn more about the project at the [ArcticDEM overview page](https://www.pgc.umn.edu/data/arcticdem/).\n",
    "\n",
    "Interactively explore and download PGC data with [FRIDGE](https://fridge.pgc.umn.edu/)."
   ]
  },
  {
   "cell_type": "code",
   "execution_count": 2,
   "id": "db55adc9-2b82-43fa-9a3d-434c0a7dd991",
   "metadata": {},
   "outputs": [],
   "source": [
    "! pip install -q pdemtools"
   ]
  },
  {
   "cell_type": "code",
   "execution_count": 13,
   "id": "ce41e40f-6ee5-4e3a-85de-47bb36cef44c",
   "metadata": {},
   "outputs": [],
   "source": [
    "import zipfile\n",
    "import os\n",
    "import requests\n",
    "from urllib.parse import urlparse\n",
    "from pathlib import Path\n",
    "import pprint\n",
    "import geopandas as gpdworking_dir = Path.home() / \"groundingline-data\"\n"
   ]
  },
  {
   "cell_type": "code",
   "execution_count": 4,
   "id": "a876bb8d-26bf-49d6-82af-f080a409f7ed",
   "metadata": {},
   "outputs": [],
   "source": [
    "def create_data_directories(working_dir: Path | str) -> dict[[str], Path]:\n",
    "    # Make sure the provided parent_dir exists\n",
    "    if isinstance(working_dir, str):\n",
    "        working_dir = Path(working_dir)\n",
    "    working_dir.mkdir(parents=True, exist_ok=True)\n",
    "\n",
    "    # Define the subdirectories to be created\n",
    "    subdirs = {\n",
    "        \"index\": working_dir / \"arcticdem\" / \"index\",\n",
    "        \"strip_dems\": working_dir / \"arcticdem\" / \"strip_dems\",\n",
    "        \"mosaic_dems\": working_dir / \"arcticdem\" / \"mosaic_dems\",\n",
    "    }\n",
    "\n",
    "    # Create the subdirectories\n",
    "    for dir in subdirs.values():\n",
    "        dir.mkdir(parents=True, exist_ok=True)\n",
    "\n",
    "    return subdirs"
   ]
  },
  {
   "cell_type": "code",
   "execution_count": 5,
   "id": "fabed213-6722-4f07-9ee8-5988e5779b09",
   "metadata": {},
   "outputs": [],
   "source": [
    "def download_file(url: str, output_dir: Path | str) -> Path:\n",
    "    \"\"\"\n",
    "    Downloads a file from the given URL to the specified directory.\n",
    "    \n",
    "    Args:\n",
    "        url (str): The URL of the file to download.\n",
    "        output_dir (str): The directory to save the file in.\n",
    "    \"\"\"\n",
    "\n",
    "    \n",
    "    # Convert the output_dir to a path object if it is not already and very that the directory exists\n",
    "    if isinstance(output_dir, str):\n",
    "        output_dir = Path(output_dir)\n",
    "    if not output_dir.exists():\n",
    "        raise ValueError(f\"The provided output_dir does not exist: {output_dir}\")\n",
    "    \n",
    "    # Get the filename from the URL\n",
    "    parsed_url = urlparse(url)\n",
    "    filename = os.path.basename(parsed_url.path)\n",
    "    \n",
    "    # Construct the full path to the output file\n",
    "    output_file = output_dir / filename\n",
    "\n",
    "    # If the output file already exists, skip redownloading\n",
    "    if output_file.exists():\n",
    "        return output_file\n",
    "    \n",
    "    # Download the file\n",
    "    response = requests.get(url, stream=True)\n",
    "    \n",
    "    # Save the file to disk\n",
    "    with open(output_file, 'wb') as file:\n",
    "        for chunk in response.iter_content(chunk_size=1024):\n",
    "            file.write(chunk)\n",
    "    \n",
    "    return output_file"
   ]
  },
  {
   "cell_type": "code",
   "execution_count": 6,
   "id": "809aa9a0-97ae-47db-aa74-c395bef256dc",
   "metadata": {},
   "outputs": [],
   "source": [
    "def extract_index_parquet(zip_path: str | Path) -> Path:\n",
    "    \"\"\"\n",
    "    Unzips a zip archive containing one file to the same directory as the zip archive.\n",
    "\n",
    "    Args:\n",
    "        zip_file_path (str): The path to the zip archive file.\n",
    "    \"\"\"\n",
    "    # Get the directory where the zip file is located\n",
    "    zip_path = zip_path if isinstance(zip_path, Path) else Path(zip_path)\n",
    "    directory = zip_path.parent\n",
    "\n",
    "    # Open the zip file\n",
    "    with zipfile.ZipFile(zip_path, 'r') as zip_file:\n",
    "        # Get the name of the file inside the zip archive\n",
    "        zip_members = zip_file.namelist()\n",
    "        for member in zip_members:\n",
    "            if \".parquet\" in member:\n",
    "                # Extract the file to the same directory as the zip archive\n",
    "                unzipped = zip_file.extract(member, directory)\n",
    "                \n",
    "    return Path(unzipped)"
   ]
  },
  {
   "cell_type": "code",
   "execution_count": 7,
   "id": "17bd1db8-f676-4c5d-8f2e-da1a38a92b54",
   "metadata": {},
   "outputs": [],
   "source": [
    "def download_arcticdem_strip_index(url: str, index_dir: Path) -> Path:\n",
    "    # Download the zip archive to the index subdirectory and extract it\n",
    "    zip_archive = download_file(url=url, output_dir=index_dir)\n",
    "    extracted = extract_index_parquet(zip_path=zip_archive)\n",
    "\n",
    "    # Clean up after ourselves by: \n",
    "    #     - Moving the index file into the index directory\n",
    "    #     - Delete the empty subdirectory created during zip extraction\n",
    "    #     - Remove the zip archive\n",
    "    strip_index = extracted.rename(index_dir / extracted.name)\n",
    "    if extracted.parent.exists():\n",
    "        extracted.parent.rmdir()\n",
    "    if zip_archive.exists():\n",
    "        zip_archive.unlink()\n",
    "\n",
    "    return strip_index"
   ]
  },
  {
   "cell_type": "code",
   "execution_count": 8,
   "id": "aa62fc74-9875-4eff-9ed2-5a734fe1c27e",
   "metadata": {},
   "outputs": [],
   "source": [
    "ARCTICDEM_STRIP_INDEX_URL = \"https://data.pgc.umn.edu/elev/dem/setsm/ArcticDEM/indexes/ArcticDEM_Strip_Index_latest_gpqt.zip\"\n",
    "\n",
    "working_dir = Path.home() / \"groundingline-data\""
   ]
  },
  {
   "cell_type": "code",
   "execution_count": 9,
   "id": "14992b93-a170-4651-9f15-4456d884ef75",
   "metadata": {},
   "outputs": [],
   "source": [
    "dirs = create_data_directories(working_dir)"
   ]
  },
  {
   "cell_type": "code",
   "execution_count": 10,
   "id": "40f3715b-2077-42f8-a210-77ec05455832",
   "metadata": {},
   "outputs": [
    {
     "name": "stdout",
     "output_type": "stream",
     "text": [
      "{'index': PosixPath('/home/jovyan/groundingline-data/arcticdem/index'),\n",
      " 'mosaic_dems': PosixPath('/home/jovyan/groundingline-data/arcticdem/mosaic_dems'),\n",
      " 'strip_dems': PosixPath('/home/jovyan/groundingline-data/arcticdem/strip_dems')}\n"
     ]
    }
   ],
   "source": [
    "pprint.pprint(dirs)"
   ]
  },
  {
   "cell_type": "code",
   "execution_count": 11,
   "id": "2567d8c7-e3d9-431a-9c9e-a9e939097fd0",
   "metadata": {},
   "outputs": [
    {
     "name": "stdout",
     "output_type": "stream",
     "text": [
      "CPU times: user 6.41 s, sys: 1.75 s, total: 8.16 s\n",
      "Wall time: 1min 59s\n"
     ]
    }
   ],
   "source": [
    "%%time\n",
    "strip_index_path = download_arcticdem_strip_index(url=ARCTICDEM_STRIP_INDEX_URL, index_dir=dirs[\"index\"])"
   ]
  },
  {
   "cell_type": "code",
   "execution_count": 12,
   "id": "d6674eef-46a6-405a-a25d-6c8a7989e66c",
   "metadata": {},
   "outputs": [
    {
     "data": {
      "text/plain": [
       "PosixPath('/home/jovyan/groundingline-data/arcticdem/index/ArcticDEM_Strip_Index_s2s041.parquet')"
      ]
     },
     "execution_count": 12,
     "metadata": {},
     "output_type": "execute_result"
    }
   ],
   "source": [
    "strip_index_path"
   ]
  },
  {
   "cell_type": "code",
   "execution_count": 14,
   "id": "58cd301b-201b-4790-b4d7-1e29f68ebb39",
   "metadata": {},
   "outputs": [],
   "source": [
    "AOI_PATH = working_dir / \"petermann_geom.json\""
   ]
  },
  {
   "cell_type": "code",
   "execution_count": 15,
   "id": "0290b5ac-499b-45bc-af18-eb116d73cb36",
   "metadata": {},
   "outputs": [],
   "source": [
    "aoi = gpd.read_file(AOI_PATH)"
   ]
  },
  {
   "cell_type": "code",
   "execution_count": 17,
   "id": "d1df471c-1023-4282-8a32-52837a54d809",
   "metadata": {
    "scrolled": true
   },
   "outputs": [
    {
     "data": {
      "text/html": [
       "<div style=\"width:100%;\"><div style=\"position:relative;width:100%;height:0;padding-bottom:60%;\"><span style=\"color:#565656\">Make this Notebook Trusted to load map: File -> Trust Notebook</span><iframe srcdoc=\"&lt;!DOCTYPE html&gt;\n",
       "&lt;html&gt;\n",
       "&lt;head&gt;\n",
       "    \n",
       "    &lt;meta http-equiv=&quot;content-type&quot; content=&quot;text/html; charset=UTF-8&quot; /&gt;\n",
       "    \n",
       "        &lt;script&gt;\n",
       "            L_NO_TOUCH = false;\n",
       "            L_DISABLE_3D = false;\n",
       "        &lt;/script&gt;\n",
       "    \n",
       "    &lt;style&gt;html, body {width: 100%;height: 100%;margin: 0;padding: 0;}&lt;/style&gt;\n",
       "    &lt;style&gt;#map {position:absolute;top:0;bottom:0;right:0;left:0;}&lt;/style&gt;\n",
       "    &lt;script src=&quot;https://cdn.jsdelivr.net/npm/leaflet@1.9.3/dist/leaflet.js&quot;&gt;&lt;/script&gt;\n",
       "    &lt;script src=&quot;https://code.jquery.com/jquery-3.7.1.min.js&quot;&gt;&lt;/script&gt;\n",
       "    &lt;script src=&quot;https://cdn.jsdelivr.net/npm/bootstrap@5.2.2/dist/js/bootstrap.bundle.min.js&quot;&gt;&lt;/script&gt;\n",
       "    &lt;script src=&quot;https://cdnjs.cloudflare.com/ajax/libs/Leaflet.awesome-markers/2.0.2/leaflet.awesome-markers.js&quot;&gt;&lt;/script&gt;\n",
       "    &lt;link rel=&quot;stylesheet&quot; href=&quot;https://cdn.jsdelivr.net/npm/leaflet@1.9.3/dist/leaflet.css&quot;/&gt;\n",
       "    &lt;link rel=&quot;stylesheet&quot; href=&quot;https://cdn.jsdelivr.net/npm/bootstrap@5.2.2/dist/css/bootstrap.min.css&quot;/&gt;\n",
       "    &lt;link rel=&quot;stylesheet&quot; href=&quot;https://netdna.bootstrapcdn.com/bootstrap/3.0.0/css/bootstrap-glyphicons.css&quot;/&gt;\n",
       "    &lt;link rel=&quot;stylesheet&quot; href=&quot;https://cdn.jsdelivr.net/npm/@fortawesome/fontawesome-free@6.2.0/css/all.min.css&quot;/&gt;\n",
       "    &lt;link rel=&quot;stylesheet&quot; href=&quot;https://cdnjs.cloudflare.com/ajax/libs/Leaflet.awesome-markers/2.0.2/leaflet.awesome-markers.css&quot;/&gt;\n",
       "    &lt;link rel=&quot;stylesheet&quot; href=&quot;https://cdn.jsdelivr.net/gh/python-visualization/folium/folium/templates/leaflet.awesome.rotate.min.css&quot;/&gt;\n",
       "    \n",
       "            &lt;meta name=&quot;viewport&quot; content=&quot;width=device-width,\n",
       "                initial-scale=1.0, maximum-scale=1.0, user-scalable=no&quot; /&gt;\n",
       "            &lt;style&gt;\n",
       "                #map_2b33d45a11671e3e0444aa5b654e0259 {\n",
       "                    position: relative;\n",
       "                    width: 100.0%;\n",
       "                    height: 100.0%;\n",
       "                    left: 0.0%;\n",
       "                    top: 0.0%;\n",
       "                }\n",
       "                .leaflet-container { font-size: 1rem; }\n",
       "            &lt;/style&gt;\n",
       "        \n",
       "    \n",
       "                    &lt;style&gt;\n",
       "                        .foliumtooltip {\n",
       "                            \n",
       "                        }\n",
       "                       .foliumtooltip table{\n",
       "                            margin: auto;\n",
       "                        }\n",
       "                        .foliumtooltip tr{\n",
       "                            text-align: left;\n",
       "                        }\n",
       "                        .foliumtooltip th{\n",
       "                            padding: 2px; padding-right: 8px;\n",
       "                        }\n",
       "                    &lt;/style&gt;\n",
       "            \n",
       "&lt;/head&gt;\n",
       "&lt;body&gt;\n",
       "    \n",
       "    \n",
       "            &lt;div class=&quot;folium-map&quot; id=&quot;map_2b33d45a11671e3e0444aa5b654e0259&quot; &gt;&lt;/div&gt;\n",
       "        \n",
       "&lt;/body&gt;\n",
       "&lt;script&gt;\n",
       "    \n",
       "    \n",
       "            var map_2b33d45a11671e3e0444aa5b654e0259 = L.map(\n",
       "                &quot;map_2b33d45a11671e3e0444aa5b654e0259&quot;,\n",
       "                {\n",
       "                    center: [80.58291487988362, -59.99226155104904],\n",
       "                    crs: L.CRS.EPSG3857,\n",
       "                    zoom: 10,\n",
       "                    zoomControl: true,\n",
       "                    preferCanvas: false,\n",
       "                }\n",
       "            );\n",
       "            L.control.scale().addTo(map_2b33d45a11671e3e0444aa5b654e0259);\n",
       "\n",
       "            \n",
       "\n",
       "        \n",
       "    \n",
       "            var tile_layer_70bea0594992f53091cd5f8a7bf74061 = L.tileLayer(\n",
       "                &quot;https://tile.openstreetmap.org/{z}/{x}/{y}.png&quot;,\n",
       "                {&quot;attribution&quot;: &quot;\\u0026copy; \\u003ca href=\\&quot;https://www.openstreetmap.org/copyright\\&quot;\\u003eOpenStreetMap\\u003c/a\\u003e contributors&quot;, &quot;detectRetina&quot;: false, &quot;maxNativeZoom&quot;: 19, &quot;maxZoom&quot;: 19, &quot;minZoom&quot;: 0, &quot;noWrap&quot;: false, &quot;opacity&quot;: 1, &quot;subdomains&quot;: &quot;abc&quot;, &quot;tms&quot;: false}\n",
       "            );\n",
       "        \n",
       "    \n",
       "            tile_layer_70bea0594992f53091cd5f8a7bf74061.addTo(map_2b33d45a11671e3e0444aa5b654e0259);\n",
       "        \n",
       "    \n",
       "            map_2b33d45a11671e3e0444aa5b654e0259.fitBounds(\n",
       "                [[80.37555146702006, -60.742192931665976], [80.79027829274719, -59.2423301704321]],\n",
       "                {}\n",
       "            );\n",
       "        \n",
       "    \n",
       "        function geo_json_59b24df5ce9544d6edc5db31f38e151c_styler(feature) {\n",
       "            switch(feature.id) {\n",
       "                default:\n",
       "                    return {&quot;fillOpacity&quot;: 0.5, &quot;weight&quot;: 2};\n",
       "            }\n",
       "        }\n",
       "        function geo_json_59b24df5ce9544d6edc5db31f38e151c_highlighter(feature) {\n",
       "            switch(feature.id) {\n",
       "                default:\n",
       "                    return {&quot;fillOpacity&quot;: 0.75};\n",
       "            }\n",
       "        }\n",
       "        function geo_json_59b24df5ce9544d6edc5db31f38e151c_pointToLayer(feature, latlng) {\n",
       "            var opts = {&quot;bubblingMouseEvents&quot;: true, &quot;color&quot;: &quot;#3388ff&quot;, &quot;dashArray&quot;: null, &quot;dashOffset&quot;: null, &quot;fill&quot;: true, &quot;fillColor&quot;: &quot;#3388ff&quot;, &quot;fillOpacity&quot;: 0.2, &quot;fillRule&quot;: &quot;evenodd&quot;, &quot;lineCap&quot;: &quot;round&quot;, &quot;lineJoin&quot;: &quot;round&quot;, &quot;opacity&quot;: 1.0, &quot;radius&quot;: 2, &quot;stroke&quot;: true, &quot;weight&quot;: 3};\n",
       "            \n",
       "            let style = geo_json_59b24df5ce9544d6edc5db31f38e151c_styler(feature)\n",
       "            Object.assign(opts, style)\n",
       "            \n",
       "            return new L.CircleMarker(latlng, opts)\n",
       "        }\n",
       "\n",
       "        function geo_json_59b24df5ce9544d6edc5db31f38e151c_onEachFeature(feature, layer) {\n",
       "            layer.on({\n",
       "                mouseout: function(e) {\n",
       "                    if(typeof e.target.setStyle === &quot;function&quot;){\n",
       "                            geo_json_59b24df5ce9544d6edc5db31f38e151c.resetStyle(e.target);\n",
       "                    }\n",
       "                },\n",
       "                mouseover: function(e) {\n",
       "                    if(typeof e.target.setStyle === &quot;function&quot;){\n",
       "                        const highlightStyle = geo_json_59b24df5ce9544d6edc5db31f38e151c_highlighter(e.target.feature)\n",
       "                        e.target.setStyle(highlightStyle);\n",
       "                    }\n",
       "                },\n",
       "            });\n",
       "        };\n",
       "        var geo_json_59b24df5ce9544d6edc5db31f38e151c = L.geoJson(null, {\n",
       "                onEachFeature: geo_json_59b24df5ce9544d6edc5db31f38e151c_onEachFeature,\n",
       "            \n",
       "                style: geo_json_59b24df5ce9544d6edc5db31f38e151c_styler,\n",
       "                pointToLayer: geo_json_59b24df5ce9544d6edc5db31f38e151c_pointToLayer,\n",
       "        });\n",
       "\n",
       "        function geo_json_59b24df5ce9544d6edc5db31f38e151c_add (data) {\n",
       "            geo_json_59b24df5ce9544d6edc5db31f38e151c\n",
       "                .addData(data);\n",
       "        }\n",
       "            geo_json_59b24df5ce9544d6edc5db31f38e151c_add({&quot;bbox&quot;: [-60.742192931665976, 80.37555146702006, -59.2423301704321, 80.79027829274719], &quot;features&quot;: [{&quot;bbox&quot;: [-60.742192931665976, 80.37555146702006, -59.2423301704321, 80.79027829274719], &quot;geometry&quot;: {&quot;coordinates&quot;: [[[-60.26033870716479, 80.37589794188568], [-60.270715179091525, 80.37555146702006], [-60.30063207327964, 80.3761066862161], [-60.30716345428191, 80.37644179327114], [-60.37302741588379, 80.38198529083864], [-60.381840797367516, 80.38312332693127], [-60.39051834655646, 80.38503930172212], [-60.426041084769594, 80.3945559981216], [-60.42660843507636, 80.39470978234738], [-60.66865321138578, 80.46108197089825], [-60.67804707957659, 80.4641646873421], [-60.68709062826195, 80.46815995046674], [-60.69569545865236, 80.47302870741402], [-60.70377746033756, 80.4787233671071], [-60.71125763344808, 80.4851882654432], [-60.7180628608624, 80.49236020939856], [-60.724126622911484, 80.50016909472693], [-60.72938964759452, 80.50853859121388], [-60.73380048995034, 80.51738688878865], [-60.73731603492107, 80.52662749720034], [-60.739901918792796, 80.53617009144203], [-60.74153286509364, 80.54592139465869], [-60.742192931665976, 80.5557860899089], [-60.74187566649764, 80.56566775186792], [-60.740584170789056, 80.575469789365], [-60.738331068639575, 80.58509638954177], [-60.73513838364963, 80.59445345440287], [-60.73103732364461, 80.60344952060397], [-60.72606797562494, 80.61199665348693], [-60.72027891392409, 80.62001130662249], [-60.713726725404634, 80.6274151384591], [-60.70647545633355, 80.6341357780952], [-60.69859598634344, 80.64010753268948], [-60.69016533559897, 80.64527202959472], [-60.68126591194094, 80.64957878693806], [-60.671984705366974, 80.6529857070708], [-60.66241243772251, 80.65545948806398], [-60.01881285675405, 80.78823346539951], [-60.00969423179542, 80.78967945307959], [-60.000481111121104, 80.79027829274719], [-59.99125202755738, 80.79002487988096], [-59.98208564999851, 80.78892137457724], [-59.97682662367929, 80.78804032837466], [-59.97654216371897, 80.78799225077105], [-59.34038606599346, 80.67952913400066], [-59.335765757736354, 80.6786289961086], [-59.324933974728076, 80.6762528213776], [-59.31504041605496, 80.67354385007869], [-59.305476421145215, 80.6698356119414], [-59.296342623337125, 80.66516712542885], [-59.28773512939085, 80.65958751283644], [-59.27974450824317, 80.6531554834218], [-59.272454838031784, 80.64593871566012], [-59.26960508071868, 80.64281214208667], [-59.26376791750427, 80.63578896177009], [-59.258595798220334, 80.62826256035484], [-59.25413185706736, 80.62029570617433], [-59.25041332221471, 80.61195484082951], [-59.24747120532688, 80.6033095250823], [-59.245330042933816, 80.59443185873593], [-59.24432441787851, 80.58923066322677], [-59.243014043974966, 80.580313777431], [-59.2428379618038, 80.57857339533011], [-59.2423301704321, 80.56834869347166], [-59.24287040154323, 80.55812565427004], [-59.24445299338656, 80.54801141760935], [-59.247061360022904, 80.53811198309712], [-59.250668165149065, 80.5285310991633], [-59.25523560858885, 80.51936917575193], [-59.260715822447864, 80.51072223200107], [-59.267051372780486, 80.50268088993931], [-59.272339640568745, 80.49663326359907], [-59.28194912462043, 80.48704381527041], [-59.28496172445342, 80.48442056225046], [-59.29372940999762, 80.47760374821979], [-59.30319892585864, 80.47180120285687], [-59.311743214607134, 80.46719767699706], [-59.31947879079087, 80.46344952146654], [-59.32750767505095, 80.46037953346763], [-59.33577054372089, 80.45801039646894], [-59.344986154152394, 80.4557918964545], [-59.35429289210324, 80.45401317918437], [-59.36258891544371, 80.45283181369186], [-59.368165915058, 80.45219676132069], [-60.26033870716479, 80.37589794188568]]], &quot;type&quot;: &quot;Polygon&quot;}, &quot;id&quot;: &quot;0&quot;, &quot;properties&quot;: {}, &quot;type&quot;: &quot;Feature&quot;}], &quot;type&quot;: &quot;FeatureCollection&quot;});\n",
       "\n",
       "        \n",
       "    \n",
       "    geo_json_59b24df5ce9544d6edc5db31f38e151c.bindTooltip(\n",
       "    function(layer){\n",
       "    let div = L.DomUtil.create(&#x27;div&#x27;);\n",
       "    \n",
       "    return div\n",
       "    }\n",
       "    ,{&quot;className&quot;: &quot;foliumtooltip&quot;, &quot;sticky&quot;: true});\n",
       "                     \n",
       "    \n",
       "            geo_json_59b24df5ce9544d6edc5db31f38e151c.addTo(map_2b33d45a11671e3e0444aa5b654e0259);\n",
       "        \n",
       "&lt;/script&gt;\n",
       "&lt;/html&gt;\" style=\"position:absolute;width:100%;height:100%;left:0;top:0;border:none !important;\" allowfullscreen webkitallowfullscreen mozallowfullscreen></iframe></div></div>"
      ],
      "text/plain": [
       "<folium.folium.Map at 0x7fdb91767990>"
      ]
     },
     "execution_count": 17,
     "metadata": {},
     "output_type": "execute_result"
    }
   ],
   "source": [
    "aoi.explore()"
   ]
  },
  {
   "cell_type": "code",
   "execution_count": 21,
   "id": "c16e2068-0879-469e-99ba-31684e8f85b8",
   "metadata": {},
   "outputs": [
    {
     "data": {
      "text/plain": [
       "shapely.geometry.polygon.Polygon"
      ]
     },
     "execution_count": 21,
     "metadata": {},
     "output_type": "execute_result"
    }
   ],
   "source": [
    "type(aoi.geometry[0])"
   ]
  },
  {
   "cell_type": "code",
   "execution_count": 18,
   "id": "762b136a-de08-4d0b-89d2-a0e09eba065f",
   "metadata": {},
   "outputs": [],
   "source": [
    "import pdemtools as pdt"
   ]
  },
  {
   "cell_type": "code",
   "execution_count": null,
   "id": "1955560b-214d-4b18-8628-d5a67979ab28",
   "metadata": {},
   "outputs": [],
   "source": [
    "strips = pdt.search(\n",
    "    index_fpath=strip_index_path,\n",
    "    bounds=aoi.geometry[0]\n",
    "                   )"
   ]
  },
  {
   "cell_type": "code",
   "execution_count": null,
   "id": "99800945-62b1-4aa3-9fbd-f6ca62988237",
   "metadata": {},
   "outputs": [],
   "source": []
  }
 ],
 "metadata": {
  "kernelspec": {
   "display_name": "Python 3 (ipykernel)",
   "language": "python",
   "name": "python3"
  },
  "language_info": {
   "codemirror_mode": {
    "name": "ipython",
    "version": 3
   },
   "file_extension": ".py",
   "mimetype": "text/x-python",
   "name": "python",
   "nbconvert_exporter": "python",
   "pygments_lexer": "ipython3",
   "version": "3.11.9"
  }
 },
 "nbformat": 4,
 "nbformat_minor": 5
}
